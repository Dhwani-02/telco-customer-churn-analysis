{
 "cells": [
  {
   "cell_type": "code",
   "execution_count": 1,
   "id": "26bb5afa-1a4e-4f00-9f96-06069f2ba2c6",
   "metadata": {},
   "outputs": [
    {
     "name": "stdout",
     "output_type": "stream",
     "text": [
      "Predicted Churn Class: 1\n",
      "Churn Probability: 0.67\n"
     ]
    }
   ],
   "source": [
    "import pickle\n",
    "import pandas as pd\n",
    "\n",
    "# === Load trained pipeline ===\n",
    "with open('random_forest_pipeline.pkl', 'rb') as file:\n",
    "    model = pickle.load(file)\n",
    "\n",
    "# === Define sample input ===\n",
    "sample_input = {\n",
    "    \"Count\": 1,\n",
    "    \"Country\": \"United States\",\n",
    "    \"State\": \"California\",\n",
    "    \"City\": \"Los Angeles\",\n",
    "    \"Zip Code\": 90001,\n",
    "    \"Latitude\": 34.0522,\n",
    "    \"Longitude\": -118.2437,\n",
    "    \"Gender\": \"Male\",\n",
    "    \"Partner\": \"Yes\",\n",
    "    \"Dependents\": \"No\",\n",
    "    \"Tenure Months\": 12,\n",
    "    \"Phone Service\": \"Yes\",\n",
    "    \"Multiple Lines\": \"No\",\n",
    "    \"Internet Service\": \"Fiber optic\",\n",
    "    \"Online Security\": \"No\",\n",
    "    \"Online Backup\": \"Yes\",\n",
    "    \"Device Protection\": \"No\",\n",
    "    \"Tech Support\": \"No\",\n",
    "    \"Streaming TV\": \"Yes\",\n",
    "    \"Streaming Movies\": \"No\",\n",
    "    \"Contract\": \"Month-to-month\",\n",
    "    \"Paperless Billing\": \"Yes\",\n",
    "    \"Payment Method\": \"Electronic check\",\n",
    "    \"Monthly Charges\": 85.5,\n",
    "    \"Total Charges\": 1020.5\n",
    "}\n",
    "\n",
    "# === Convert to DataFrame ===\n",
    "input_df = pd.DataFrame([sample_input])\n",
    "\n",
    "# === Run prediction ===\n",
    "pred = model.predict(input_df)[0]\n",
    "proba = model.predict_proba(input_df)[0][1]\n",
    "\n",
    "# === Output ===\n",
    "print(f\"Predicted Churn Class: {pred}\")\n",
    "print(f\"Churn Probability: {round(proba, 4)}\")\n"
   ]
  },
  {
   "cell_type": "markdown",
   "id": "8e18c6b8-be82-48d5-b310-39951cb74275",
   "metadata": {},
   "source": [
    "* Predicted Churn Class: 1 → Customer is likely to churn\n",
    "* Churn Probability: 0.67 → 67% confidence"
   ]
  }
 ],
 "metadata": {
  "kernelspec": {
   "display_name": "Python 3 (ipykernel)",
   "language": "python",
   "name": "python3"
  },
  "language_info": {
   "codemirror_mode": {
    "name": "ipython",
    "version": 3
   },
   "file_extension": ".py",
   "mimetype": "text/x-python",
   "name": "python",
   "nbconvert_exporter": "python",
   "pygments_lexer": "ipython3",
   "version": "3.12.4"
  }
 },
 "nbformat": 4,
 "nbformat_minor": 5
}
